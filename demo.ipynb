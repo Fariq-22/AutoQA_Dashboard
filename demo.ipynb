{
 "cells": [
  {
   "cell_type": "code",
   "execution_count": null,
   "id": "c5a39deb",
   "metadata": {
    "vscode": {
     "languageId": "plaintext"
    }
   },
   "outputs": [],
   "source": [
    "dashboard_project/\n",
    "│\n",
    "├── app/\n",
    "│   ├── __init__.py              # Initialize Flask app and MongoDB connection\n",
    "│   ├── routes.py                # All route logic (views/controllers)\n",
    "│   ├── models.py                # DB interaction logic (optional abstraction)\n",
    "│   └── templates/               # HTML files\n",
    "│   │   └── dashboard.html\n",
    "│   └── static/                  # Static files (CSS, JS, images)\n",
    "│       ├── css/\n",
    "│       │   └── styles.css\n",
    "│       └── js/\n",
    "│           └── scripts.js\n",
    "│\n",
    "├── .env                         # For MongoDB URI and config (optional)\n",
    "├── config.py                    # Config management\n",
    "├── run.py                       # Entry point to run the app\n",
    "└── requirements.txt             # Python dependencies\n"
   ]
  },
  {
   "cell_type": "code",
   "execution_count": null,
   "id": "7e2a8fb2",
   "metadata": {
    "vscode": {
     "languageId": "plaintext"
    }
   },
   "outputs": [],
   "source": [
    "\"\n",
    "After login need an dashboard page \n",
    "AT the top of the page need an Text like \"AUTOQA DASHBOARD\" make it colorfull\n",
    "then below it need to have an interactive bar graph where each bar/bin contain the number of tickets assined at each day for past 7 days\n",
    "and need to change accordingly to the dashboard_project\n",
    "For that retrive data with MongoDB and use the python libarary or what ever you want to plot it \n",
    "But it should be good and big with count of tickets at top\n",
    "\n",
    "Below the barplot \n",
    "need tohave three big button vertically from startin widge to ending widge\n",
    "\n",
    "So the opening dashboard page need to have three things\n",
    "Page Title\n",
    "Bar plot\n",
    "at last three big button with names , \"Explore Ticket\" , \"Explore Client\" , \"Explore AutoQA\"\n",
    "\n",
    "Now provide the full code with files names\n",
    "Provide correct code\n",
    "\n",
    "\""
   ]
  },
  {
   "cell_type": "code",
   "execution_count": null,
   "id": "f35aa4e5",
   "metadata": {
    "vscode": {
     "languageId": "plaintext"
    }
   },
   "outputs": [],
   "source": [
    "Okay its good need to modify something while opening the dashboard as far now we are listing how many tickets are rised , total number of tickets ,  but Now we need to modify something \n",
    "while opening the dashboard need to plot the bar plot with each day having four bins with differnt colorfull\n",
    "need to plot total tickets rised , how many are complete, how mnay are processing and how many are failed\n",
    "in MongoDB schema with \"auto_qa_status\" will have the value to calculate failed,complete,processing \n",
    "chnage the code in required files to satisfy the requirements"
   ]
  },
  {
   "cell_type": "code",
   "execution_count": null,
   "id": "36003288",
   "metadata": {
    "vscode": {
     "languageId": "plaintext"
    }
   },
   "outputs": [],
   "source": [
    "Now need to build an explore ticket page\n",
    "when user click on explore ticket button in dashboard\n",
    "new page need to be entered\n",
    "\n",
    "It need to have Title as Explore Ticket\n",
    "the make an goog looking input filed for ticket id\n",
    "\n",
    "with ticket id \n",
    "need to list the information like\n",
    "client_id\n",
    "ticket_type\n",
    "customer_name\n",
    "\n",
    "conversation_content = need to show only the role as prefix and text_content as suffix\n",
    "\n",
    "auto_qa_status\n",
    "\n",
    "\n",
    "if there are multiple documenst in same ticket id\n",
    "need to mention that too\n",
    "\n",
    "\n",
    "make the page full and interactive\n",
    "i am giving full freedoom to build the way you want need to fill the page \n",
    "if there is multiple ticket or documenst with same ticket id\n",
    "make scolling for better view fo every ticket\n",
    "\n",
    "Provide the code with file name\n"
   ]
  },
  {
   "cell_type": "code",
   "execution_count": null,
   "id": "c74df161",
   "metadata": {
    "vscode": {
     "languageId": "plaintext"
    }
   },
   "outputs": [],
   "source": [
    "Now its time for \n",
    "explore client\n",
    "\n",
    "In the dashboard page when user click the explore client it need to render to new page\n",
    "That page will have last 7 days of information like how many ticket are rised and  how many are complete, how mnay are processing and how many are failed\n",
    "in MongoDB schema with \"auto_qa_status\" will have the value to calculate failed,complete,processing \n",
    "\n",
    "same like what you done for dashboard page \n",
    "and add an input field for called Date with with placeholder of date/month/year with an example\n",
    "with the date need to plot an beatiful pie plot with how many are complete, how mnay are processing and how many are failed\n",
    "\n",
    "\n",
    "so at the top of the page need to have the Title = Explore client\n",
    "below it we need the bar plot \n",
    "below it left side we will input the Date\n",
    "in the right side the pie plot will be plotted\n",
    "\n",
    "Provide the full code with file name"
   ]
  },
  {
   "cell_type": "code",
   "execution_count": null,
   "id": "44dfa0a2",
   "metadata": {
    "vscode": {
     "languageId": "plaintext"
    }
   },
   "outputs": [],
   "source": [
    "The aling is not good in the explore client page\n",
    "Title\n",
    "\n",
    "Need to change everythink\n",
    "\n",
    "need to change the functionality\n",
    "\n",
    "\n",
    "Need to provide three options \n",
    "first options\n",
    "where user will only provide the client id with that need to plot the last 7 days auto_qa_status in bar plot\n",
    "\n",
    "second options\n",
    "user will input client_id and date \n",
    "with that need to plot the pie plot with auto_qa_status\n",
    "\n",
    "third options\n",
    "where user will provide \n",
    "user will input client_id and starting date and ending date\n",
    "An range of date with that the pie ploy need to created \n",
    "\n",
    "\n",
    "Now provide the full code with file name\n",
    "\n",
    "Title\n",
    "thtree options"
   ]
  },
  {
   "cell_type": "code",
   "execution_count": null,
   "id": "c151c8f3",
   "metadata": {
    "vscode": {
     "languageId": "plaintext"
    }
   },
   "outputs": [],
   "source": []
  }
 ],
 "metadata": {
  "language_info": {
   "name": "python"
  }
 },
 "nbformat": 4,
 "nbformat_minor": 5
}
